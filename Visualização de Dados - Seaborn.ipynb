{
 "cells": [
  {
   "cell_type": "markdown",
   "metadata": {},
   "source": [
    "# Visualização de Dados com Seaborn"
   ]
  },
  {
   "cell_type": "code",
   "execution_count": null,
   "metadata": {},
   "outputs": [],
   "source": [
    "# Importar as bibliotecas necessárias\n",
    "\n",
    "import pandas as pd\n",
    "pd.plotting.register_matplotlib.converters()\n",
    "import matplotlib.pyplot as plt\n",
    "%matplotlib inline\n",
    "import seaborn as sns"
   ]
  },
  {
   "cell_type": "code",
   "execution_count": null,
   "metadata": {},
   "outputs": [],
   "source": [
    "# Caminho do arquivo a ser lido\n",
    "caminho = \"C:\\Arquivos\\arq.csv\"\n",
    "\n",
    "# Ler o arquivo na variável dados\n",
    "dados = pd.read_csv(caminho, index_col=\"Data\", parse_dates=True)"
   ]
  },
  {
   "cell_type": "code",
   "execution_count": null,
   "metadata": {},
   "outputs": [],
   "source": [
    "# Imprimir as primeiras 5 linhas de dados\n",
    "dados.head()\n",
    "\n",
    "# Imprimir as 5 últimas linhas de dados\n",
    "dados.tail()\n",
    "\n",
    "# Criar um gráfico de linhas\n",
    "sns.lineplot(data=dados)"
   ]
  },
  {
   "cell_type": "code",
   "execution_count": null,
   "metadata": {},
   "outputs": [],
   "source": [
    "# Ajustar largura e altura da figura a ser plotada\n",
    "plt.figure(figsize=(14,6))  # 14 polegadas de largura por 6 polegadas de altura.\n",
    "\n",
    "# Adicionar um título ao gráfico\n",
    "plt.title(\"Aqui vai o título do gráfico\")"
   ]
  },
  {
   "cell_type": "markdown",
   "metadata": {},
   "source": [
    "## Imprimir um subconjunto dos dados"
   ]
  },
  {
   "cell_type": "code",
   "execution_count": null,
   "metadata": {},
   "outputs": [],
   "source": [
    "# Ver os nomes das colunas no dataset\n",
    "list(dados.columns)\n",
    "\n",
    "# Imprimir os dados de uma coluna em particular\n",
    "sns.lineplot(data=dados['Nome da Coluna'], label=\"Rótulo (opcional) a ser usado no gráfico\")\n",
    "\n",
    "# Podemos imprimir os dados de mais de uma coluna no mesmo gráfico. Basta repetir o comando anterior:\n",
    "sns.lineplot(data=dados['Nome da outra Coluna'], label=\"Outor rótulo a ser usado no gráfico\")\n",
    "\n",
    "# Adicionar rótulo ao eixo x do gráfico\n",
    "plt.xlabel(\"Nome do Rótulo\")"
   ]
  },
  {
   "cell_type": "markdown",
   "metadata": {},
   "source": [
    "## Gráficos de Barras"
   ]
  },
  {
   "cell_type": "code",
   "execution_count": null,
   "metadata": {},
   "outputs": [],
   "source": [
    "# Ajustar dimensões da figura:\n",
    "plt.figure(figsize=(10,6))\n",
    "\n",
    "# Adicionar um título\n",
    "plt.title(\"Título do Gráfico\")\n",
    "\n",
    "# Criar gráfico de barras com o pacote Seaborn:\n",
    "sns.barplot(x=dados.index, y=dados['Nome Campo'])\n",
    "\n",
    "# Rótulo no eixo vertical\n",
    "plt.ylabel(\"Rótulo para o eixo y\")"
   ]
  },
  {
   "cell_type": "markdown",
   "metadata": {},
   "source": [
    "## Mapas de Calor (Heatmaps)"
   ]
  },
  {
   "cell_type": "code",
   "execution_count": null,
   "metadata": {},
   "outputs": [],
   "source": [
    "# Ajustar dimensões da figura:\n",
    "plt.figure(figsize=(10,6))\n",
    "\n",
    "# Adicionar um título\n",
    "plt.title(\"Título do Gráfico\")\n",
    "\n",
    "# Criar heatmap com Seaborn\n",
    "sns.heatmap(dados=fonte-dos-dados, annot=True) # annot=True mostra os valores no mapa de calor\n",
    "\n",
    "# Rótulo no eixo horizontal\n",
    "plt.xlabel(\"Rótulo para o eixo x\")"
   ]
  },
  {
   "cell_type": "markdown",
   "metadata": {},
   "source": [
    "# Scatterplots\n",
    "\n",
    "Usamos scatterplots para realçar a relação entre duas variáveis contínuas.\n",
    "\n",
    "Podemos também adaptar o gráfico para mostrar uma variável categórica em um dos eixos, criando um gráfico de espalhamento categórico, com a função swarmplot."
   ]
  },
  {
   "cell_type": "code",
   "execution_count": null,
   "metadata": {},
   "outputs": [],
   "source": [
    "# Informamos os valores para os eixos x e y do gráfico:\n",
    "sns.scatterplot(x=dados['coluna'], y=dados['outra_coluna'])\n",
    "\n",
    "# Adicionar uma linha de regressão (linha que melhor representa os dados):\n",
    "sns.regplot(x=dados['coluna'], y=dados['outra_coluna'])\n",
    "\n",
    "# Adicionar outra coluna de dados e colorir os pontos:\n",
    "sns.regplot(x=dados['coluna'], y=dados['outra_coluna'], hue=dados['coluna_pontos'])\n",
    "\n",
    "# Plotar duas linhas de regressão:\n",
    "sns.lmplot(x=\"coluna1\", y=\"coluna2\", hue=\"coluna_pontos\", data=dados) # Basta especificar os nomes das colunas com a função lmplot\n",
    "\n",
    "# Criar scatterplot categórico:\n",
    "sns.swarmplot(x=dados['coluna1'], y=dados['coluna2'])\n"
   ]
  },
  {
   "cell_type": "markdown",
   "metadata": {},
   "source": [
    "# Histogramas"
   ]
  },
  {
   "cell_type": "code",
   "execution_count": null,
   "metadata": {},
   "outputs": [],
   "source": [
    "# Criar um histograma\n",
    "\n",
    "sns.distplot(a=dados['Nome da coluna'], kde=False) # a = coluna a ser plotada; kde = Kernel Density Estimate\n",
    "\n",
    "# Histograma com 3 fontes de dados:\n",
    "sns.distplot(a=dados1['Nome da coluna'], label=\"Rótulo 01\", kde=False)\n",
    "sns.distplot(a=dados2['Nome da coluna'], label=\"Rótulo 02\", kde=False)\n",
    "sns.distplot(a=dados3['Nome da coluna'], label=\"Rótulo 03\", kde=False)\n",
    "plt.title(\"Título do gráfico\")\n",
    "plt.legend() # Forçar a exibição da legenda com os rótulos."
   ]
  },
  {
   "cell_type": "markdown",
   "metadata": {},
   "source": [
    "# Gráfico de Densidade\n",
    "\n",
    "KDE = Kernel Density Estimate\n",
    "\n",
    "*\"histograma suavizado\"*"
   ]
  },
  {
   "cell_type": "code",
   "execution_count": null,
   "metadata": {},
   "outputs": [],
   "source": [
    "# Criar gráfico de densidade\n",
    "\n",
    "sns.kdeplot(data=dados['Nome da Coluna'], shade=True) # shade = sombreamento da área do gráfico\n",
    "\n",
    "# KDE bidimensional\n",
    "sns.jointplot(x=dados['Coluna Dados Eixo x'],y=dados['Coluna Dados Eixo y'], kind='kde')\n",
    "\n"
   ]
  },
  {
   "cell_type": "markdown",
   "metadata": {},
   "source": [
    "# Temas do Seaborn\n",
    "\n",
    "O seabornpossui cinco temas diferentes que podem ser usados para alterar a aparência padrão de um gráfico:\n",
    "- darkgrid\n",
    "- dark\n",
    "- whitegrid\n",
    "- white\n",
    "- ticks"
   ]
  },
  {
   "cell_type": "code",
   "execution_count": null,
   "metadata": {},
   "outputs": [],
   "source": [
    "# Aplicando um tema ao seaborn para mudar seu estilo, como por exemplo o estilo dark\n",
    "\n",
    "sns.set_style(\"dark\")"
   ]
  }
 ],
 "metadata": {
  "kernelspec": {
   "display_name": "Python 3",
   "language": "python",
   "name": "python3"
  },
  "language_info": {
   "codemirror_mode": {
    "name": "ipython",
    "version": 3
   },
   "file_extension": ".py",
   "mimetype": "text/x-python",
   "name": "python",
   "nbconvert_exporter": "python",
   "pygments_lexer": "ipython3",
   "version": "3.8.5"
  }
 },
 "nbformat": 4,
 "nbformat_minor": 4
}
